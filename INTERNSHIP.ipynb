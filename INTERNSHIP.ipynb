{
  "nbformat": 4,
  "nbformat_minor": 0,
  "metadata": {
    "colab": {
      "provenance": [],
      "authorship_tag": "ABX9TyNW7ARw8PsnTXqqAjhRDMRI",
      "include_colab_link": true
    },
    "kernelspec": {
      "name": "python3",
      "display_name": "Python 3"
    },
    "language_info": {
      "name": "python"
    }
  },
  "cells": [
    {
      "cell_type": "markdown",
      "metadata": {
        "id": "view-in-github",
        "colab_type": "text"
      },
      "source": [
        "<a href=\"https://colab.research.google.com/github/B2003-DS/intern1093/blob/1093/INTERNSHIP.ipynb\" target=\"_parent\"><img src=\"https://colab.research.google.com/assets/colab-badge.svg\" alt=\"Open In Colab\"/></a>"
      ]
    },
    {
      "cell_type": "code",
      "execution_count": null,
      "metadata": {
        "id": "QzwhnTUSpK5c"
      },
      "outputs": [],
      "source": [
        "import numpy as np\n",
        "import pandas as pd\n",
        "import matplotlib.pyplot as plt \n",
        "import scipy.stats as stats"
      ]
    },
    {
      "cell_type": "code",
      "source": [
        "Enrollment = pd.read_csv('Enrollments_28092022.csv')"
      ],
      "metadata": {
        "id": "meaos8ZXpP2Q"
      },
      "execution_count": null,
      "outputs": []
    },
    {
      "cell_type": "code",
      "source": [
        "#1)Identify Variables and their Types (Quantitative or Qualitative)\n",
        "Enrollment.dtypes"
      ],
      "metadata": {
        "colab": {
          "base_uri": "https://localhost:8080/"
        },
        "id": "UJB4X6yopfmr",
        "outputId": "b070c726-1d82-4e14-d605-0df38df789c2"
      },
      "execution_count": null,
      "outputs": [
        {
          "output_type": "execute_result",
          "data": {
            "text/plain": [
              "StudentNo         int64\n",
              "DEGREE          float64\n",
              "INTERMEDIATE    float64\n",
              "SSC             float64\n",
              "INTERNSHIP       object\n",
              "dtype: object"
            ]
          },
          "metadata": {},
          "execution_count": 3
        }
      ]
    },
    {
      "cell_type": "code",
      "source": [
        "#2)Size of Data (No. of Columns and Rows)\n",
        "Enrollment.info()\n",
        "len(Enrollment)"
      ],
      "metadata": {
        "colab": {
          "base_uri": "https://localhost:8080/"
        },
        "id": "vMPMIMMHpjop",
        "outputId": "cf5ec8f6-5b3d-43bb-8008-c616deb0ba81"
      },
      "execution_count": null,
      "outputs": [
        {
          "output_type": "stream",
          "name": "stdout",
          "text": [
            "<class 'pandas.core.frame.DataFrame'>\n",
            "RangeIndex: 297 entries, 0 to 296\n",
            "Data columns (total 5 columns):\n",
            " #   Column        Non-Null Count  Dtype  \n",
            "---  ------        --------------  -----  \n",
            " 0   StudentNo     297 non-null    int64  \n",
            " 1   DEGREE        297 non-null    float64\n",
            " 2   INTERMEDIATE  297 non-null    float64\n",
            " 3   SSC           297 non-null    float64\n",
            " 4   INTERNSHIP    297 non-null    object \n",
            "dtypes: float64(3), int64(1), object(1)\n",
            "memory usage: 11.7+ KB\n"
          ]
        },
        {
          "output_type": "execute_result",
          "data": {
            "text/plain": [
              "297"
            ]
          },
          "metadata": {},
          "execution_count": 4
        }
      ]
    },
    {
      "cell_type": "code",
      "source": [
        "Enrollment.shape"
      ],
      "metadata": {
        "colab": {
          "base_uri": "https://localhost:8080/"
        },
        "id": "FVA2BqmwpoEu",
        "outputId": "ce42ab68-0f4d-40ad-9a2b-48a218b422ae"
      },
      "execution_count": null,
      "outputs": [
        {
          "output_type": "execute_result",
          "data": {
            "text/plain": [
              "(297, 5)"
            ]
          },
          "metadata": {},
          "execution_count": 5
        }
      ]
    },
    {
      "cell_type": "code",
      "source": [
        "#3)Prepare Histogram for Degree, Inter and 10th Class\n",
        "Enrollment['DEGREE'].hist(bins=10)\n",
        "Enrollment['INTERMEDIATE'].hist(bins=10)\n",
        "Enrollment['SSC'].hist(bins=10)"
      ],
      "metadata": {
        "colab": {
          "base_uri": "https://localhost:8080/",
          "height": 282
        },
        "id": "W9bpyxJ6pr2L",
        "outputId": "0ba963d4-6553-492d-f0f0-550f5bb2943f"
      },
      "execution_count": null,
      "outputs": [
        {
          "output_type": "execute_result",
          "data": {
            "text/plain": [
              "<matplotlib.axes._subplots.AxesSubplot at 0x7fa760e4f890>"
            ]
          },
          "metadata": {},
          "execution_count": 6
        },
        {
          "output_type": "display_data",
          "data": {
            "text/plain": [
              "<Figure size 432x288 with 1 Axes>"
            ],
            "image/png": "[encoded data removed]"
          },
          "metadata": {
            "needs_background": "light"
          }
        }
      ]
    },
    {
      "cell_type": "code",
      "source": [
        "#4)Create Pie-Chart to represent the Enrollments for each Internship Program\n",
        "colors = ['PINK','GREY','RED']\n",
        "Enrollment.groupby(['INTERNSHIP']).sum().plot( kind='pie', y='StudentNo', autopct='%1.0f%%', colors=colors,shadow=True,\n",
        "                                              startangle=30)"
      ],
      "metadata": {
        "colab": {
          "base_uri": "https://localhost:8080/",
          "height": 265
        },
        "id": "2Dy8C6lgpv3p",
        "outputId": "0b3b8833-f5ba-4eef-d797-69dabb1e1c4d"
      },
      "execution_count": null,
      "outputs": [
        {
          "output_type": "execute_result",
          "data": {
            "text/plain": [
              "<matplotlib.axes._subplots.AxesSubplot at 0x7fa76031be90>"
            ]
          },
          "metadata": {},
          "execution_count": 7
        },
        {
          "output_type": "display_data",
          "data": {
            "text/plain": [
              "<Figure size 432x288 with 1 Axes>"
            ],
            "image/png": "[encoded data removed]"
          },
          "metadata": {}
        }
      ]
    },
    {
      "cell_type": "code",
      "source": [
        "#5)NO OF ENROLLMENTS FOR EACH INERNSHIP PROGRAM.\n",
        "Enrollment [Enrollment ['INTERNSHIP'] == 'MEAN Stack Web Development']"
      ],
      "metadata": {
        "colab": {
          "base_uri": "https://localhost:8080/",
          "height": 1000
        },
        "id": "s0r9Zxhzp0bJ",
        "outputId": "c1c7f5f5-b886-4d09-b29c-f5fafe8fa106"
      },
      "execution_count": null,
      "outputs": [
        {
          "output_type": "execute_result",
          "data": {
            "text/plain": [
              "     StudentNo  DEGREE  INTERMEDIATE   SSC                  INTERNSHIP\n",
              "1         1002    8.10         76.00  92.0  MEAN Stack Web Development\n",
              "2         1003    7.80         94.60  92.0  MEAN Stack Web Development\n",
              "4         1005    8.38         87.00  90.0  MEAN Stack Web Development\n",
              "9         1010    8.30         87.00  98.0  MEAN Stack Web Development\n",
              "10        1011    8.00         88.00  85.0  MEAN Stack Web Development\n",
              "12        1013    7.66         92.10  85.0  MEAN Stack Web Development\n",
              "16        1017    9.53         98.20  93.1  MEAN Stack Web Development\n",
              "17        1018    9.08         95.20  83.0  MEAN Stack Web Development\n",
              "33        1034    8.02         86.00  87.0  MEAN Stack Web Development\n",
              "52        1053    7.00         86.30  92.0  MEAN Stack Web Development\n",
              "82        1083    7.50         74.20  65.6  MEAN Stack Web Development\n",
              "105       2001    7.13         77.00  84.0  MEAN Stack Web Development\n",
              "120       2016    7.10         89.30  93.0  MEAN Stack Web Development\n",
              "121       2017    6.80         83.00  85.0  MEAN Stack Web Development\n",
              "127       2023    9.20         97.20  92.0  MEAN Stack Web Development\n",
              "132       2028    7.40         90.80  93.0  MEAN Stack Web Development\n",
              "139       2035    8.50         94.00  97.0  MEAN Stack Web Development\n",
              "147       2043    8.60         94.00  98.0  MEAN Stack Web Development\n",
              "148       2044    8.92         89.90  90.0  MEAN Stack Web Development\n",
              "150       2046    7.82         77.80  83.0  MEAN Stack Web Development\n",
              "152       2048    8.97         89.70  90.0  MEAN Stack Web Development\n",
              "153       2049    8.38         87.00  98.0  MEAN Stack Web Development\n",
              "160       2056    7.28         83.00  87.0  MEAN Stack Web Development\n",
              "163       2059    7.87         87.30  93.0  MEAN Stack Web Development\n",
              "164       2060    8.20         82.30  82.0  MEAN Stack Web Development\n",
              "185       2081    7.87         97.20  95.0  MEAN Stack Web Development\n",
              "187       2083    6.92         92.00  97.0  MEAN Stack Web Development\n",
              "192       2088    8.56         97.60  95.0  MEAN Stack Web Development\n",
              "195       2091    7.76         94.90  80.0  MEAN Stack Web Development\n",
              "196       2092    6.50         77.62  98.0  MEAN Stack Web Development\n",
              "203       2099    9.09         92.00  95.0  MEAN Stack Web Development\n",
              "204       2100    7.10         98.00  95.0  MEAN Stack Web Development\n",
              "209       2105    6.60         96.00  75.0  MEAN Stack Web Development\n",
              "212       2108    7.10         82.13  96.0  MEAN Stack Web Development\n",
              "213       2109    7.23         92.00  97.0  MEAN Stack Web Development\n",
              "214       2110    7.50         86.40  85.0  MEAN Stack Web Development\n",
              "215       2111    7.50         88.00  87.0  MEAN Stack Web Development\n",
              "222       2118    7.60         90.30  90.0  MEAN Stack Web Development\n",
              "224       2120    7.80         93.90  93.0  MEAN Stack Web Development\n",
              "231       2127    6.50         94.60  95.0  MEAN Stack Web Development\n",
              "244       2140    8.73         92.10  83.0  MEAN Stack Web Development\n",
              "247       2143    8.30         93.00  93.0  MEAN Stack Web Development\n",
              "253       2149    8.50         92.00  95.4  MEAN Stack Web Development\n",
              "254       2150    8.50         91.80  90.0  MEAN Stack Web Development\n",
              "256       2152    7.20         85.00  98.0  MEAN Stack Web Development\n",
              "257       2153    9.05         96.50  97.0  MEAN Stack Web Development\n",
              "267       2163    7.79         77.00  93.0  MEAN Stack Web Development\n",
              "269       2165    7.90         86.60  92.0  MEAN Stack Web Development\n",
              "272       2168    6.30         69.00  84.0  MEAN Stack Web Development\n",
              "275       2171    8.64         91.60  90.8  MEAN Stack Web Development\n",
              "289       2185    6.50         79.50  85.0  MEAN Stack Web Development"
            ],
            "text/html": [
              "\n",
              "  <div id=\"df-8661ef83-e73e-43a2-b543-4491f0f45611\">\n",
              "    <div class=\"colab-df-container\">\n",
              "      <div>\n",
              "<style scoped>\n",
              "    .dataframe tbody tr th:only-of-type {\n",
              "        vertical-align: middle;\n",
              "    }\n",
              "\n",
              "    .dataframe tbody tr th {\n",
              "        vertical-align: top;\n",
              "    }\n",
              "\n",
              "    .dataframe thead th {\n",
              "        text-align: right;\n",
              "    }\n",
              "</style>\n",
              "<table border=\"1\" class=\"dataframe\">\n",
              "  <thead>\n",
              "    <tr style=\"text-align: right;\">\n",
              "      <th></th>\n",
              "      <th>StudentNo</th>\n",
              "      <th>DEGREE</th>\n",
              "      <th>INTERMEDIATE</th>\n",
              "      <th>SSC</th>\n",
              "      <th>INTERNSHIP</th>\n",
              "    </tr>\n",
              "  </thead>\n",
              "  <tbody>\n",
              "    <tr>\n",
              "      <th>1</th>\n",
              "      <td>1002</td>\n",
              "      <td>8.10</td>\n",
              "      <td>76.00</td>\n",
              "      <td>92.0</td>\n",
              "      <td>MEAN Stack Web Development</td>\n",
              "    </tr>\n",
              "    <tr>\n",
              "      <th>2</th>\n",
              "      <td>1003</td>\n",
              "      <td>7.80</td>\n",
              "      <td>94.60</td>\n",
              "      <td>92.0</td>\n",
              "      <td>MEAN Stack Web Development</td>\n",
              "    </tr>\n",
              "    <tr>\n",
              "      <th>4</th>\n",
              "      <td>1005</td>\n",
              "      <td>8.38</td>\n",
              "      <td>87.00</td>\n",
              "      <td>90.0</td>\n",
              "      <td>MEAN Stack Web Development</td>\n",
              "    </tr>\n",
              "    <tr>\n",
              "      <th>9</th>\n",
              "      <td>1010</td>\n",
              "      <td>8.30</td>\n",
              "      <td>87.00</td>\n",
              "      <td>98.0</td>\n",
              "      <td>MEAN Stack Web Development</td>\n",
              "    </tr>\n",
              "    <tr>\n",
              "      <th>10</th>\n",
              "      <td>1011</td>\n",
              "      <td>8.00</td>\n",
              "      <td>88.00</td>\n",
              "      <td>85.0</td>\n",
              "      <td>MEAN Stack Web Development</td>\n",
              "    </tr>\n",
              "    <tr>\n",
              "      <th>12</th>\n",
              "      <td>1013</td>\n",
              "      <td>7.66</td>\n",
              "      <td>92.10</td>\n",
              "      <td>85.0</td>\n",
              "      <td>MEAN Stack Web Development</td>\n",
              "    </tr>\n",
              "    <tr>\n",
              "      <th>16</th>\n",
              "      <td>1017</td>\n",
              "      <td>9.53</td>\n",
              "      <td>98.20</td>\n",
              "      <td>93.1</td>\n",
              "      <td>MEAN Stack Web Development</td>\n",
              "    </tr>\n",
              "    <tr>\n",
              "      <th>17</th>\n",
              "      <td>1018</td>\n",
              "      <td>9.08</td>\n",
              "      <td>95.20</td>\n",
              "      <td>83.0</td>\n",
              "      <td>MEAN Stack Web Development</td>\n",
              "    </tr>\n",
              "    <tr>\n",
              "      <th>33</th>\n",
              "      <td>1034</td>\n",
              "      <td>8.02</td>\n",
              "      <td>86.00</td>\n",
              "      <td>87.0</td>\n",
              "      <td>MEAN Stack Web Development</td>\n",
              "    </tr>\n",
              "    <tr>\n",
              "      <th>52</th>\n",
              "      <td>1053</td>\n",
              "      <td>7.00</td>\n",
              "      <td>86.30</td>\n",
              "      <td>92.0</td>\n",
              "      <td>MEAN Stack Web Development</td>\n",
              "    </tr>\n",
              "    <tr>\n",
              "      <th>82</th>\n",
              "      <td>1083</td>\n",
              "      <td>7.50</td>\n",
              "      <td>74.20</td>\n",
              "      <td>65.6</td>\n",
              "      <td>MEAN Stack Web Development</td>\n",
              "    </tr>\n",
              "    <tr>\n",
              "      <th>105</th>\n",
              "      <td>2001</td>\n",
              "      <td>7.13</td>\n",
              "      <td>77.00</td>\n",
              "      <td>84.0</td>\n",
              "      <td>MEAN Stack Web Development</td>\n",
              "    </tr>\n",
              "    <tr>\n",
              "      <th>120</th>\n",
              "      <td>2016</td>\n",
              "      <td>7.10</td>\n",
              "      <td>89.30</td>\n",
              "      <td>93.0</td>\n",
              "      <td>MEAN Stack Web Development</td>\n",
              "    </tr>\n",
              "    <tr>\n",
              "      <th>121</th>\n",
              "      <td>2017</td>\n",
              "      <td>6.80</td>\n",
              "      <td>83.00</td>\n",
              "      <td>85.0</td>\n",
              "      <td>MEAN Stack Web Development</td>\n",
              "    </tr>\n",
              "    <tr>\n",
              "      <th>127</th>\n",
              "      <td>2023</td>\n",
              "      <td>9.20</td>\n",
              "      <td>97.20</td>\n",
              "      <td>92.0</td>\n",
              "      <td>MEAN Stack Web Development</td>\n",
              "    </tr>\n",
              "    <tr>\n",
              "      <th>132</th>\n",
              "      <td>2028</td>\n",
              "      <td>7.40</td>\n",
              "      <td>90.80</td>\n",
              "      <td>93.0</td>\n",
              "      <td>MEAN Stack Web Development</td>\n",
              "    </tr>\n",
              "    <tr>\n",
              "      <th>139</th>\n",
              "      <td>2035</td>\n",
              "      <td>8.50</td>\n",
              "      <td>94.00</td>\n",
              "      <td>97.0</td>\n",
              "      <td>MEAN Stack Web Development</td>\n",
              "    </tr>\n",
              "    <tr>\n",
              "      <th>147</th>\n",
              "      <td>2043</td>\n",
              "      <td>8.60</td>\n",
              "      <td>94.00</td>\n",
              "      <td>98.0</td>\n",
              "      <td>MEAN Stack Web Development</td>\n",
              "    </tr>\n",
              "    <tr>\n",
              "      <th>148</th>\n",
              "      <td>2044</td>\n",
              "      <td>8.92</td>\n",
              "      <td>89.90</td>\n",
              "      <td>90.0</td>\n",
              "      <td>MEAN Stack Web Development</td>\n",
              "    </tr>\n",
              "    <tr>\n",
              "      <th>150</th>\n",
              "      <td>2046</td>\n",
              "      <td>7.82</td>\n",
              "      <td>77.80</td>\n",
              "      <td>83.0</td>\n",
              "      <td>MEAN Stack Web Development</td>\n",
              "    </tr>\n",
              "    <tr>\n",
              "      <th>152</th>\n",
              "      <td>2048</td>\n",
              "      <td>8.97</td>\n",
              "      <td>89.70</td>\n",
              "      <td>90.0</td>\n",
              "      <td>MEAN Stack Web Development</td>\n",
              "    </tr>\n",
              "    <tr>\n",
              "      <th>153</th>\n",
              "      <td>2049</td>\n",
              "      <td>8.38</td>\n",
              "      <td>87.00</td>\n",
              "      <td>98.0</td>\n",
              "      <td>MEAN Stack Web Development</td>\n",
              "    </tr>\n",
              "    <tr>\n",
              "      <th>160</th>\n",
              "      <td>2056</td>\n",
              "      <td>7.28</td>\n",
              "      <td>83.00</td>\n",
              "      <td>87.0</td>\n",
              "      <td>MEAN Stack Web Development</td>\n",
              "    </tr>\n",
              "    <tr>\n",
              "      <th>163</th>\n",
              "      <td>2059</td>\n",
              "      <td>7.87</td>\n",
              "      <td>87.30</td>\n",
              "      <td>93.0</td>\n",
              "      <td>MEAN Stack Web Development</td>\n",
              "    </tr>\n",
              "    <tr>\n",
              "      <th>164</th>\n",
              "      <td>2060</td>\n",
              "      <td>8.20</td>\n",
              "      <td>82.30</td>\n",
              "      <td>82.0</td>\n",
              "      <td>MEAN Stack Web Development</td>\n",
              "    </tr>\n",
              "    <tr>\n",
              "      <th>185</th>\n",
              "      <td>2081</td>\n",
              "      <td>7.87</td>\n",
              "      <td>97.20</td>\n",
              "      <td>95.0</td>\n",
              "      <td>MEAN Stack Web Development</td>\n",
              "    </tr>\n",
              "    <tr>\n",
              "      <th>187</th>\n",
              "      <td>2083</td>\n",
              "      <td>6.92</td>\n",
              "      <td>92.00</td>\n",
              "      <td>97.0</td>\n",
              "      <td>MEAN Stack Web Development</td>\n",
              "    </tr>\n",
              "    <tr>\n",
              "      <th>192</th>\n",
              "      <td>2088</td>\n",
              "      <td>8.56</td>\n",
              "      <td>97.60</td>\n",
              "      <td>95.0</td>\n",
              "      <td>MEAN Stack Web Development</td>\n",
              "    </tr>\n",
              "    <tr>\n",
              "      <th>195</th>\n",
              "      <td>2091</td>\n",
              "      <td>7.76</td>\n",
              "      <td>94.90</td>\n",
              "      <td>80.0</td>\n",
              "      <td>MEAN Stack Web Development</td>\n",
              "    </tr>\n",
              "    <tr>\n",
              "      <th>196</th>\n",
              "      <td>2092</td>\n",
              "      <td>6.50</td>\n",
              "      <td>77.62</td>\n",
              "      <td>98.0</td>\n",
              "      <td>MEAN Stack Web Development</td>\n",
              "    </tr>\n",
              "    <tr>\n",
              "      <th>203</th>\n",
              "      <td>2099</td>\n",
              "      <td>9.09</td>\n",
              "      <td>92.00</td>\n",
              "      <td>95.0</td>\n",
              "      <td>MEAN Stack Web Development</td>\n",
              "    </tr>\n",
              "    <tr>\n",
              "      <th>204</th>\n",
              "      <td>2100</td>\n",
              "      <td>7.10</td>\n",
              "      <td>98.00</td>\n",
              "      <td>95.0</td>\n",
              "      <td>MEAN Stack Web Development</td>\n",
              "    </tr>\n",
              "    <tr>\n",
              "      <th>209</th>\n",
              "      <td>2105</td>\n",
              "      <td>6.60</td>\n",
              "      <td>96.00</td>\n",
              "      <td>75.0</td>\n",
              "      <td>MEAN Stack Web Development</td>\n",
              "    </tr>\n",
              "    <tr>\n",
              "      <th>212</th>\n",
              "      <td>2108</td>\n",
              "      <td>7.10</td>\n",
              "      <td>82.13</td>\n",
              "      <td>96.0</td>\n",
              "      <td>MEAN Stack Web Development</td>\n",
              "    </tr>\n",
              "    <tr>\n",
              "      <th>213</th>\n",
              "      <td>2109</td>\n",
              "      <td>7.23</td>\n",
              "      <td>92.00</td>\n",
              "      <td>97.0</td>\n",
              "      <td>MEAN Stack Web Development</td>\n",
              "    </tr>\n",
              "    <tr>\n",
              "      <th>214</th>\n",
              "      <td>2110</td>\n",
              "      <td>7.50</td>\n",
              "      <td>86.40</td>\n",
              "      <td>85.0</td>\n",
              "      <td>MEAN Stack Web Development</td>\n",
              "    </tr>\n",
              "    <tr>\n",
              "      <th>215</th>\n",
              "      <td>2111</td>\n",
              "      <td>7.50</td>\n",
              "      <td>88.00</td>\n",
              "      <td>87.0</td>\n",
              "      <td>MEAN Stack Web Development</td>\n",
              "    </tr>\n",
              "    <tr>\n",
              "      <th>222</th>\n",
              "      <td>2118</td>\n",
              "      <td>7.60</td>\n",
              "      <td>90.30</td>\n",
              "      <td>90.0</td>\n",
              "      <td>MEAN Stack Web Development</td>\n",
              "    </tr>\n",
              "    <tr>\n",
              "      <th>224</th>\n",
              "      <td>2120</td>\n",
              "      <td>7.80</td>\n",
              "      <td>93.90</td>\n",
              "      <td>93.0</td>\n",
              "      <td>MEAN Stack Web Development</td>\n",
              "    </tr>\n",
              "    <tr>\n",
              "      <th>231</th>\n",
              "      <td>2127</td>\n",
              "      <td>6.50</td>\n",
              "      <td>94.60</td>\n",
              "      <td>95.0</td>\n",
              "      <td>MEAN Stack Web Development</td>\n",
              "    </tr>\n",
              "    <tr>\n",
              "      <th>244</th>\n",
              "      <td>2140</td>\n",
              "      <td>8.73</td>\n",
              "      <td>92.10</td>\n",
              "      <td>83.0</td>\n",
              "      <td>MEAN Stack Web Development</td>\n",
              "    </tr>\n",
              "    <tr>\n",
              "      <th>247</th>\n",
              "      <td>2143</td>\n",
              "      <td>8.30</td>\n",
              "      <td>93.00</td>\n",
              "      <td>93.0</td>\n",
              "      <td>MEAN Stack Web Development</td>\n",
              "    </tr>\n",
              "    <tr>\n",
              "      <th>253</th>\n",
              "      <td>2149</td>\n",
              "      <td>8.50</td>\n",
              "      <td>92.00</td>\n",
              "      <td>95.4</td>\n",
              "      <td>MEAN Stack Web Development</td>\n",
              "    </tr>\n",
              "    <tr>\n",
              "      <th>254</th>\n",
              "      <td>2150</td>\n",
              "      <td>8.50</td>\n",
              "      <td>91.80</td>\n",
              "      <td>90.0</td>\n",
              "      <td>MEAN Stack Web Development</td>\n",
              "    </tr>\n",
              "    <tr>\n",
              "      <th>256</th>\n",
              "      <td>2152</td>\n",
              "      <td>7.20</td>\n",
              "      <td>85.00</td>\n",
              "      <td>98.0</td>\n",
              "      <td>MEAN Stack Web Development</td>\n",
              "    </tr>\n",
              "    <tr>\n",
              "      <th>257</th>\n",
              "      <td>2153</td>\n",
              "      <td>9.05</td>\n",
              "      <td>96.50</td>\n",
              "      <td>97.0</td>\n",
              "      <td>MEAN Stack Web Development</td>\n",
              "    </tr>\n",
              "    <tr>\n",
              "      <th>267</th>\n",
              "      <td>2163</td>\n",
              "      <td>7.79</td>\n",
              "      <td>77.00</td>\n",
              "      <td>93.0</td>\n",
              "      <td>MEAN Stack Web Development</td>\n",
              "    </tr>\n",
              "    <tr>\n",
              "      <th>269</th>\n",
              "      <td>2165</td>\n",
              "      <td>7.90</td>\n",
              "      <td>86.60</td>\n",
              "      <td>92.0</td>\n",
              "      <td>MEAN Stack Web Development</td>\n",
              "    </tr>\n",
              "    <tr>\n",
              "      <th>272</th>\n",
              "      <td>2168</td>\n",
              "      <td>6.30</td>\n",
              "      <td>69.00</td>\n",
              "      <td>84.0</td>\n",
              "      <td>MEAN Stack Web Development</td>\n",
              "    </tr>\n",
              "    <tr>\n",
              "      <th>275</th>\n",
              "      <td>2171</td>\n",
              "      <td>8.64</td>\n",
              "      <td>91.60</td>\n",
              "      <td>90.8</td>\n",
              "      <td>MEAN Stack Web Development</td>\n",
              "    </tr>\n",
              "    <tr>\n",
              "      <th>289</th>\n",
              "      <td>2185</td>\n",
              "      <td>6.50</td>\n",
              "      <td>79.50</td>\n",
              "      <td>85.0</td>\n",
              "      <td>MEAN Stack Web Development</td>\n",
              "    </tr>\n",
              "  </tbody>\n",
              "</table>\n",
              "</div>\n",
              "      <button class=\"colab-df-convert\" onclick=\"convertToInteractive('df-8661ef83-e73e-43a2-b543-4491f0f45611')\"\n",
              "              title=\"Convert this dataframe to an interactive table.\"\n",
              "              style=\"display:none;\">\n",
              "        \n",
              "  <svg xmlns=\"http://www.w3.org/2000/svg\" height=\"24px\"viewBox=\"0 0 24 24\"\n",
              "       width=\"24px\">\n",
              "    <path d=\"M0 0h24v24H0V0z\" fill=\"none\"/>\n",
              "    <path d=\"M18.56 5.44l.94 2.06.94-2.06 2.06-.94-2.06-.94-.94-2.06-.94 2.06-2.06.94zm-11 1L8.5 8.5l.94-2.06 2.06-.94-2.06-.94L8.5 2.5l-.94 2.06-2.06.94zm10 10l.94 2.06.94-2.06 2.06-.94-2.06-.94-.94-2.06-.94 2.06-2.06.94z\"/><path d=\"M17.41 7.96l-1.37-1.37c-.4-.4-.92-.59-1.43-.59-.52 0-1.04.2-1.43.59L10.3 9.45l-7.72 7.72c-.78.78-.78 2.05 0 2.83L4 21.41c.39.39.9.59 1.41.59.51 0 1.02-.2 1.41-.59l7.78-7.78 2.81-2.81c.8-.78.8-2.07 0-2.86zM5.41 20L4 18.59l7.72-7.72 1.47 1.35L5.41 20z\"/>\n",
              "  </svg>\n",
              "      </button>\n",
              "      \n",
              "  <style>\n",
              "    .colab-df-container {\n",
              "      display:flex;\n",
              "      flex-wrap:wrap;\n",
              "      gap: 12px;\n",
              "    }\n",
              "\n",
              "    .colab-df-convert {\n",
              "      background-color: #E8F0FE;\n",
              "      border: none;\n",
              "      border-radius: 50%;\n",
              "      cursor: pointer;\n",
              "      display: none;\n",
              "      fill: #1967D2;\n",
              "      height: 32px;\n",
              "      padding: 0 0 0 0;\n",
              "      width: 32px;\n",
              "    }\n",
              "\n",
              "    .colab-df-convert:hover {\n",
              "      background-color: #E2EBFA;\n",
              "      box-shadow: 0px 1px 2px rgba(60, 64, 67, 0.3), 0px 1px 3px 1px rgba(60, 64, 67, 0.15);\n",
              "      fill: #174EA6;\n",
              "    }\n",
              "\n",
              "    [theme=dark] .colab-df-convert {\n",
              "      background-color: #3B4455;\n",
              "      fill: #D2E3FC;\n",
              "    }\n",
              "\n",
              "    [theme=dark] .colab-df-convert:hover {\n",
              "      background-color: #434B5C;\n",
              "      box-shadow: 0px 1px 3px 1px rgba(0, 0, 0, 0.15);\n",
              "      filter: drop-shadow(0px 1px 2px rgba(0, 0, 0, 0.3));\n",
              "      fill: #FFFFFF;\n",
              "    }\n",
              "  </style>\n",
              "\n",
              "      <script>\n",
              "        const buttonEl =\n",
              "          document.querySelector('#df-8661ef83-e73e-43a2-b543-4491f0f45611 button.colab-df-convert');\n",
              "        buttonEl.style.display =\n",
              "          google.colab.kernel.accessAllowed ? 'block' : 'none';\n",
              "\n",
              "        async function convertToInteractive(key) {\n",
              "          const element = document.querySelector('#df-8661ef83-e73e-43a2-b543-4491f0f45611');\n",
              "          const dataTable =\n",
              "            await google.colab.kernel.invokeFunction('convertToInteractive',\n",
              "                                                     [key], {});\n",
              "          if (!dataTable) return;\n",
              "\n",
              "          const docLinkHtml = 'Like what you see? Visit the ' +\n",
              "            '<a target=\"_blank\" href=https://colab.research.google.com/notebooks/data_table.ipynb>data table notebook</a>'\n",
              "            + ' to learn more about interactive tables.';\n",
              "          element.innerHTML = '';\n",
              "          dataTable['output_type'] = 'display_data';\n",
              "          await google.colab.output.renderOutput(dataTable, element);\n",
              "          const docLink = document.createElement('div');\n",
              "          docLink.innerHTML = docLinkHtml;\n",
              "          element.appendChild(docLink);\n",
              "        }\n",
              "      </script>\n",
              "    </div>\n",
              "  </div>\n",
              "  "
            ]
          },
          "metadata": {},
          "execution_count": 8
        }
      ]
    },
    {
      "cell_type": "code",
      "source": [
        "Enrollment [Enrollment ['INTERNSHIP'] == 'Data Science']"
      ],
      "metadata": {
        "colab": {
          "base_uri": "https://localhost:8080/",
          "height": 424
        },
        "id": "khjIc-R9p39R",
        "outputId": "675c21f9-55ee-4d22-dd01-e1eabc96d60d"
      },
      "execution_count": null,
      "outputs": [
        {
          "output_type": "execute_result",
          "data": {
            "text/plain": [
              "     StudentNo  DEGREE  INTERMEDIATE   SSC    INTERNSHIP\n",
              "0         1001    8.10          76.0  92.0  Data Science\n",
              "3         1004    9.03          89.5  89.0  Data Science\n",
              "8         1009    8.69          82.6  88.0  Data Science\n",
              "19        1020    9.16          98.0  87.0  Data Science\n",
              "20        1021    9.00          96.8  99.0  Data Science\n",
              "..         ...     ...           ...   ...           ...\n",
              "288       2184    8.00          77.0  65.0  Data Science\n",
              "291       2187    8.70          93.0  87.0  Data Science\n",
              "292       2188    8.70          94.1  93.0  Data Science\n",
              "293       2189    8.45          90.0  93.0  Data Science\n",
              "294       2190    8.40          94.9  98.0  Data Science\n",
              "\n",
              "[156 rows x 5 columns]"
            ],
            "text/html": [
              "\n",
              "  <div id=\"df-0c3c4375-d3ad-46f4-9e58-668e455088ed\">\n",
              "    <div class=\"colab-df-container\">\n",
              "      <div>\n",
              "<style scoped>\n",
              "    .dataframe tbody tr th:only-of-type {\n",
              "        vertical-align: middle;\n",
              "    }\n",
              "\n",
              "    .dataframe tbody tr th {\n",
              "        vertical-align: top;\n",
              "    }\n",
              "\n",
              "    .dataframe thead th {\n",
              "        text-align: right;\n",
              "    }\n",
              "</style>\n",
              "<table border=\"1\" class=\"dataframe\">\n",
              "  <thead>\n",
              "    <tr style=\"text-align: right;\">\n",
              "      <th></th>\n",
              "      <th>StudentNo</th>\n",
              "      <th>DEGREE</th>\n",
              "      <th>INTERMEDIATE</th>\n",
              "      <th>SSC</th>\n",
              "      <th>INTERNSHIP</th>\n",
              "    </tr>\n",
              "  </thead>\n",
              "  <tbody>\n",
              "    <tr>\n",
              "      <th>0</th>\n",
              "      <td>1001</td>\n",
              "      <td>8.10</td>\n",
              "      <td>76.0</td>\n",
              "      <td>92.0</td>\n",
              "      <td>Data Science</td>\n",
              "    </tr>\n",
              "    <tr>\n",
              "      <th>3</th>\n",
              "      <td>1004</td>\n",
              "      <td>9.03</td>\n",
              "      <td>89.5</td>\n",
              "      <td>89.0</td>\n",
              "      <td>Data Science</td>\n",
              "    </tr>\n",
              "    <tr>\n",
              "      <th>8</th>\n",
              "      <td>1009</td>\n",
              "      <td>8.69</td>\n",
              "      <td>82.6</td>\n",
              "      <td>88.0</td>\n",
              "      <td>Data Science</td>\n",
              "    </tr>\n",
              "    <tr>\n",
              "      <th>19</th>\n",
              "      <td>1020</td>\n",
              "      <td>9.16</td>\n",
              "      <td>98.0</td>\n",
              "      <td>87.0</td>\n",
              "      <td>Data Science</td>\n",
              "    </tr>\n",
              "    <tr>\n",
              "      <th>20</th>\n",
              "      <td>1021</td>\n",
              "      <td>9.00</td>\n",
              "      <td>96.8</td>\n",
              "      <td>99.0</td>\n",
              "      <td>Data Science</td>\n",
              "    </tr>\n",
              "    <tr>\n",
              "      <th>...</th>\n",
              "      <td>...</td>\n",
              "      <td>...</td>\n",
              "      <td>...</td>\n",
              "      <td>...</td>\n",
              "      <td>...</td>\n",
              "    </tr>\n",
              "    <tr>\n",
              "      <th>288</th>\n",
              "      <td>2184</td>\n",
              "      <td>8.00</td>\n",
              "      <td>77.0</td>\n",
              "      <td>65.0</td>\n",
              "      <td>Data Science</td>\n",
              "    </tr>\n",
              "    <tr>\n",
              "      <th>291</th>\n",
              "      <td>2187</td>\n",
              "      <td>8.70</td>\n",
              "      <td>93.0</td>\n",
              "      <td>87.0</td>\n",
              "      <td>Data Science</td>\n",
              "    </tr>\n",
              "    <tr>\n",
              "      <th>292</th>\n",
              "      <td>2188</td>\n",
              "      <td>8.70</td>\n",
              "      <td>94.1</td>\n",
              "      <td>93.0</td>\n",
              "      <td>Data Science</td>\n",
              "    </tr>\n",
              "    <tr>\n",
              "      <th>293</th>\n",
              "      <td>2189</td>\n",
              "      <td>8.45</td>\n",
              "      <td>90.0</td>\n",
              "      <td>93.0</td>\n",
              "      <td>Data Science</td>\n",
              "    </tr>\n",
              "    <tr>\n",
              "      <th>294</th>\n",
              "      <td>2190</td>\n",
              "      <td>8.40</td>\n",
              "      <td>94.9</td>\n",
              "      <td>98.0</td>\n",
              "      <td>Data Science</td>\n",
              "    </tr>\n",
              "  </tbody>\n",
              "</table>\n",
              "<p>156 rows × 5 columns</p>\n",
              "</div>\n",
              "      <button class=\"colab-df-convert\" onclick=\"convertToInteractive('df-0c3c4375-d3ad-46f4-9e58-668e455088ed')\"\n",
              "              title=\"Convert this dataframe to an interactive table.\"\n",
              "              style=\"display:none;\">\n",
              "        \n",
              "  <svg xmlns=\"http://www.w3.org/2000/svg\" height=\"24px\"viewBox=\"0 0 24 24\"\n",
              "       width=\"24px\">\n",
              "    <path d=\"M0 0h24v24H0V0z\" fill=\"none\"/>\n",
              "    <path d=\"M18.56 5.44l.94 2.06.94-2.06 2.06-.94-2.06-.94-.94-2.06-.94 2.06-2.06.94zm-11 1L8.5 8.5l.94-2.06 2.06-.94-2.06-.94L8.5 2.5l-.94 2.06-2.06.94zm10 10l.94 2.06.94-2.06 2.06-.94-2.06-.94-.94-2.06-.94 2.06-2.06.94z\"/><path d=\"M17.41 7.96l-1.37-1.37c-.4-.4-.92-.59-1.43-.59-.52 0-1.04.2-1.43.59L10.3 9.45l-7.72 7.72c-.78.78-.78 2.05 0 2.83L4 21.41c.39.39.9.59 1.41.59.51 0 1.02-.2 1.41-.59l7.78-7.78 2.81-2.81c.8-.78.8-2.07 0-2.86zM5.41 20L4 18.59l7.72-7.72 1.47 1.35L5.41 20z\"/>\n",
              "  </svg>\n",
              "      </button>\n",
              "      \n",
              "  <style>\n",
              "    .colab-df-container {\n",
              "      display:flex;\n",
              "      flex-wrap:wrap;\n",
              "      gap: 12px;\n",
              "    }\n",
              "\n",
              "    .colab-df-convert {\n",
              "      background-color: #E8F0FE;\n",
              "      border: none;\n",
              "      border-radius: 50%;\n",
              "      cursor: pointer;\n",
              "      display: none;\n",
              "      fill: #1967D2;\n",
              "      height: 32px;\n",
              "      padding: 0 0 0 0;\n",
              "      width: 32px;\n",
              "    }\n",
              "\n",
              "    .colab-df-convert:hover {\n",
              "      background-color: #E2EBFA;\n",
              "      box-shadow: 0px 1px 2px rgba(60, 64, 67, 0.3), 0px 1px 3px 1px rgba(60, 64, 67, 0.15);\n",
              "      fill: #174EA6;\n",
              "    }\n",
              "\n",
              "    [theme=dark] .colab-df-convert {\n",
              "      background-color: #3B4455;\n",
              "      fill: #D2E3FC;\n",
              "    }\n",
              "\n",
              "    [theme=dark] .colab-df-convert:hover {\n",
              "      background-color: #434B5C;\n",
              "      box-shadow: 0px 1px 3px 1px rgba(0, 0, 0, 0.15);\n",
              "      filter: drop-shadow(0px 1px 2px rgba(0, 0, 0, 0.3));\n",
              "      fill: #FFFFFF;\n",
              "    }\n",
              "  </style>\n",
              "\n",
              "      <script>\n",
              "        const buttonEl =\n",
              "          document.querySelector('#df-0c3c4375-d3ad-46f4-9e58-668e455088ed button.colab-df-convert');\n",
              "        buttonEl.style.display =\n",
              "          google.colab.kernel.accessAllowed ? 'block' : 'none';\n",
              "\n",
              "        async function convertToInteractive(key) {\n",
              "          const element = document.querySelector('#df-0c3c4375-d3ad-46f4-9e58-668e455088ed');\n",
              "          const dataTable =\n",
              "            await google.colab.kernel.invokeFunction('convertToInteractive',\n",
              "                                                     [key], {});\n",
              "          if (!dataTable) return;\n",
              "\n",
              "          const docLinkHtml = 'Like what you see? Visit the ' +\n",
              "            '<a target=\"_blank\" href=https://colab.research.google.com/notebooks/data_table.ipynb>data table notebook</a>'\n",
              "            + ' to learn more about interactive tables.';\n",
              "          element.innerHTML = '';\n",
              "          dataTable['output_type'] = 'display_data';\n",
              "          await google.colab.output.renderOutput(dataTable, element);\n",
              "          const docLink = document.createElement('div');\n",
              "          docLink.innerHTML = docLinkHtml;\n",
              "          element.appendChild(docLink);\n",
              "        }\n",
              "      </script>\n",
              "    </div>\n",
              "  </div>\n",
              "  "
            ]
          },
          "metadata": {},
          "execution_count": 9
        }
      ]
    },
    {
      "cell_type": "code",
      "source": [
        "Enrollment [Enrollment ['INTERNSHIP'] == 'Cloud Computing Services (AWS)']"
      ],
      "metadata": {
        "colab": {
          "base_uri": "https://localhost:8080/",
          "height": 424
        },
        "id": "Mr9MJvxwp78L",
        "outputId": "119afc3e-2110-42bc-ab52-22e9a601bb38"
      },
      "execution_count": null,
      "outputs": [
        {
          "output_type": "execute_result",
          "data": {
            "text/plain": [
              "     StudentNo  DEGREE  INTERMEDIATE   SSC                      INTERNSHIP\n",
              "5         1006    8.90          83.0  64.0  Cloud Computing Services (AWS)\n",
              "6         1007    7.20          87.0  85.0  Cloud Computing Services (AWS)\n",
              "7         1008    7.50          81.0  70.0  Cloud Computing Services (AWS)\n",
              "11        1012    8.40          87.0  90.3  Cloud Computing Services (AWS)\n",
              "13        1014    7.24          80.0  85.0  Cloud Computing Services (AWS)\n",
              "..         ...     ...           ...   ...                             ...\n",
              "278       2174    6.00          80.0  88.0  Cloud Computing Services (AWS)\n",
              "286       2182    7.50          87.0  92.0  Cloud Computing Services (AWS)\n",
              "290       2186    8.01          88.0  95.0  Cloud Computing Services (AWS)\n",
              "295       2191    7.06          90.6  88.0  Cloud Computing Services (AWS)\n",
              "296       2192    7.50          95.5  95.0  Cloud Computing Services (AWS)\n",
              "\n",
              "[90 rows x 5 columns]"
            ],
            "text/html": [
              "\n",
              "  <div id=\"df-145556b3-895a-43b9-9905-99c7896c4239\">\n",
              "    <div class=\"colab-df-container\">\n",
              "      <div>\n",
              "<style scoped>\n",
              "    .dataframe tbody tr th:only-of-type {\n",
              "        vertical-align: middle;\n",
              "    }\n",
              "\n",
              "    .dataframe tbody tr th {\n",
              "        vertical-align: top;\n",
              "    }\n",
              "\n",
              "    .dataframe thead th {\n",
              "        text-align: right;\n",
              "    }\n",
              "</style>\n",
              "<table border=\"1\" class=\"dataframe\">\n",
              "  <thead>\n",
              "    <tr style=\"text-align: right;\">\n",
              "      <th></th>\n",
              "      <th>StudentNo</th>\n",
              "      <th>DEGREE</th>\n",
              "      <th>INTERMEDIATE</th>\n",
              "      <th>SSC</th>\n",
              "      <th>INTERNSHIP</th>\n",
              "    </tr>\n",
              "  </thead>\n",
              "  <tbody>\n",
              "    <tr>\n",
              "      <th>5</th>\n",
              "      <td>1006</td>\n",
              "      <td>8.90</td>\n",
              "      <td>83.0</td>\n",
              "      <td>64.0</td>\n",
              "      <td>Cloud Computing Services (AWS)</td>\n",
              "    </tr>\n",
              "    <tr>\n",
              "      <th>6</th>\n",
              "      <td>1007</td>\n",
              "      <td>7.20</td>\n",
              "      <td>87.0</td>\n",
              "      <td>85.0</td>\n",
              "      <td>Cloud Computing Services (AWS)</td>\n",
              "    </tr>\n",
              "    <tr>\n",
              "      <th>7</th>\n",
              "      <td>1008</td>\n",
              "      <td>7.50</td>\n",
              "      <td>81.0</td>\n",
              "      <td>70.0</td>\n",
              "      <td>Cloud Computing Services (AWS)</td>\n",
              "    </tr>\n",
              "    <tr>\n",
              "      <th>11</th>\n",
              "      <td>1012</td>\n",
              "      <td>8.40</td>\n",
              "      <td>87.0</td>\n",
              "      <td>90.3</td>\n",
              "      <td>Cloud Computing Services (AWS)</td>\n",
              "    </tr>\n",
              "    <tr>\n",
              "      <th>13</th>\n",
              "      <td>1014</td>\n",
              "      <td>7.24</td>\n",
              "      <td>80.0</td>\n",
              "      <td>85.0</td>\n",
              "      <td>Cloud Computing Services (AWS)</td>\n",
              "    </tr>\n",
              "    <tr>\n",
              "      <th>...</th>\n",
              "      <td>...</td>\n",
              "      <td>...</td>\n",
              "      <td>...</td>\n",
              "      <td>...</td>\n",
              "      <td>...</td>\n",
              "    </tr>\n",
              "    <tr>\n",
              "      <th>278</th>\n",
              "      <td>2174</td>\n",
              "      <td>6.00</td>\n",
              "      <td>80.0</td>\n",
              "      <td>88.0</td>\n",
              "      <td>Cloud Computing Services (AWS)</td>\n",
              "    </tr>\n",
              "    <tr>\n",
              "      <th>286</th>\n",
              "      <td>2182</td>\n",
              "      <td>7.50</td>\n",
              "      <td>87.0</td>\n",
              "      <td>92.0</td>\n",
              "      <td>Cloud Computing Services (AWS)</td>\n",
              "    </tr>\n",
              "    <tr>\n",
              "      <th>290</th>\n",
              "      <td>2186</td>\n",
              "      <td>8.01</td>\n",
              "      <td>88.0</td>\n",
              "      <td>95.0</td>\n",
              "      <td>Cloud Computing Services (AWS)</td>\n",
              "    </tr>\n",
              "    <tr>\n",
              "      <th>295</th>\n",
              "      <td>2191</td>\n",
              "      <td>7.06</td>\n",
              "      <td>90.6</td>\n",
              "      <td>88.0</td>\n",
              "      <td>Cloud Computing Services (AWS)</td>\n",
              "    </tr>\n",
              "    <tr>\n",
              "      <th>296</th>\n",
              "      <td>2192</td>\n",
              "      <td>7.50</td>\n",
              "      <td>95.5</td>\n",
              "      <td>95.0</td>\n",
              "      <td>Cloud Computing Services (AWS)</td>\n",
              "    </tr>\n",
              "  </tbody>\n",
              "</table>\n",
              "<p>90 rows × 5 columns</p>\n",
              "</div>\n",
              "      <button class=\"colab-df-convert\" onclick=\"convertToInteractive('df-145556b3-895a-43b9-9905-99c7896c4239')\"\n",
              "              title=\"Convert this dataframe to an interactive table.\"\n",
              "              style=\"display:none;\">\n",
              "        \n",
              "  <svg xmlns=\"http://www.w3.org/2000/svg\" height=\"24px\"viewBox=\"0 0 24 24\"\n",
              "       width=\"24px\">\n",
              "    <path d=\"M0 0h24v24H0V0z\" fill=\"none\"/>\n",
              "    <path d=\"M18.56 5.44l.94 2.06.94-2.06 2.06-.94-2.06-.94-.94-2.06-.94 2.06-2.06.94zm-11 1L8.5 8.5l.94-2.06 2.06-.94-2.06-.94L8.5 2.5l-.94 2.06-2.06.94zm10 10l.94 2.06.94-2.06 2.06-.94-2.06-.94-.94-2.06-.94 2.06-2.06.94z\"/><path d=\"M17.41 7.96l-1.37-1.37c-.4-.4-.92-.59-1.43-.59-.52 0-1.04.2-1.43.59L10.3 9.45l-7.72 7.72c-.78.78-.78 2.05 0 2.83L4 21.41c.39.39.9.59 1.41.59.51 0 1.02-.2 1.41-.59l7.78-7.78 2.81-2.81c.8-.78.8-2.07 0-2.86zM5.41 20L4 18.59l7.72-7.72 1.47 1.35L5.41 20z\"/>\n",
              "  </svg>\n",
              "      </button>\n",
              "      \n",
              "  <style>\n",
              "    .colab-df-container {\n",
              "      display:flex;\n",
              "      flex-wrap:wrap;\n",
              "      gap: 12px;\n",
              "    }\n",
              "\n",
              "    .colab-df-convert {\n",
              "      background-color: #E8F0FE;\n",
              "      border: none;\n",
              "      border-radius: 50%;\n",
              "      cursor: pointer;\n",
              "      display: none;\n",
              "      fill: #1967D2;\n",
              "      height: 32px;\n",
              "      padding: 0 0 0 0;\n",
              "      width: 32px;\n",
              "    }\n",
              "\n",
              "    .colab-df-convert:hover {\n",
              "      background-color: #E2EBFA;\n",
              "      box-shadow: 0px 1px 2px rgba(60, 64, 67, 0.3), 0px 1px 3px 1px rgba(60, 64, 67, 0.15);\n",
              "      fill: #174EA6;\n",
              "    }\n",
              "\n",
              "    [theme=dark] .colab-df-convert {\n",
              "      background-color: #3B4455;\n",
              "      fill: #D2E3FC;\n",
              "    }\n",
              "\n",
              "    [theme=dark] .colab-df-convert:hover {\n",
              "      background-color: #434B5C;\n",
              "      box-shadow: 0px 1px 3px 1px rgba(0, 0, 0, 0.15);\n",
              "      filter: drop-shadow(0px 1px 2px rgba(0, 0, 0, 0.3));\n",
              "      fill: #FFFFFF;\n",
              "    }\n",
              "  </style>\n",
              "\n",
              "      <script>\n",
              "        const buttonEl =\n",
              "          document.querySelector('#df-145556b3-895a-43b9-9905-99c7896c4239 button.colab-df-convert');\n",
              "        buttonEl.style.display =\n",
              "          google.colab.kernel.accessAllowed ? 'block' : 'none';\n",
              "\n",
              "        async function convertToInteractive(key) {\n",
              "          const element = document.querySelector('#df-145556b3-895a-43b9-9905-99c7896c4239');\n",
              "          const dataTable =\n",
              "            await google.colab.kernel.invokeFunction('convertToInteractive',\n",
              "                                                     [key], {});\n",
              "          if (!dataTable) return;\n",
              "\n",
              "          const docLinkHtml = 'Like what you see? Visit the ' +\n",
              "            '<a target=\"_blank\" href=https://colab.research.google.com/notebooks/data_table.ipynb>data table notebook</a>'\n",
              "            + ' to learn more about interactive tables.';\n",
              "          element.innerHTML = '';\n",
              "          dataTable['output_type'] = 'display_data';\n",
              "          await google.colab.output.renderOutput(dataTable, element);\n",
              "          const docLink = document.createElement('div');\n",
              "          docLink.innerHTML = docLinkHtml;\n",
              "          element.appendChild(docLink);\n",
              "        }\n",
              "      </script>\n",
              "    </div>\n",
              "  </div>\n",
              "  "
            ]
          },
          "metadata": {},
          "execution_count": 10
        }
      ]
    },
    {
      "cell_type": "code",
      "source": [
        "#6)Find Measure of Central Tendency: MEAN, MEDIAN, MODE for Degree, Inter and 10th \n",
        "Enrollment['DEGREE'].mean()"
      ],
      "metadata": {
        "colab": {
          "base_uri": "https://localhost:8080/"
        },
        "id": "NTHt7_i_rayB",
        "outputId": "f2bf48a5-b171-4ba5-eb3f-44c329e72a26"
      },
      "execution_count": null,
      "outputs": [
        {
          "output_type": "execute_result",
          "data": {
            "text/plain": [
              "7.928080808080809"
            ]
          },
          "metadata": {},
          "execution_count": 22
        }
      ]
    },
    {
      "cell_type": "code",
      "source": [
        "Enrollment['DEGREE'].mode()"
      ],
      "metadata": {
        "colab": {
          "base_uri": "https://localhost:8080/"
        },
        "id": "BTGBjiByrnr8",
        "outputId": "10fc4968-e611-4328-d279-8943db8916ed"
      },
      "execution_count": null,
      "outputs": [
        {
          "output_type": "execute_result",
          "data": {
            "text/plain": [
              "0    7.0\n",
              "dtype: float64"
            ]
          },
          "metadata": {},
          "execution_count": 23
        }
      ]
    },
    {
      "cell_type": "code",
      "source": [
        "Enrollment['DEGREE'].median()"
      ],
      "metadata": {
        "colab": {
          "base_uri": "https://localhost:8080/"
        },
        "id": "V-aqVZoArsSf",
        "outputId": "2e77d818-7143-40b0-e494-7a946613ea6f"
      },
      "execution_count": null,
      "outputs": [
        {
          "output_type": "execute_result",
          "data": {
            "text/plain": [
              "8.0"
            ]
          },
          "metadata": {},
          "execution_count": 24
        }
      ]
    },
    {
      "cell_type": "code",
      "source": [
        "Enrollment['INTERMEDIATE'].mean()"
      ],
      "metadata": {
        "colab": {
          "base_uri": "https://localhost:8080/"
        },
        "id": "K-k9LX42rwRV",
        "outputId": "ecd7ee70-3059-40d9-f2cb-6f36ef9ddfd9"
      },
      "execution_count": null,
      "outputs": [
        {
          "output_type": "execute_result",
          "data": {
            "text/plain": [
              "88.66262626262626"
            ]
          },
          "metadata": {},
          "execution_count": 25
        }
      ]
    },
    {
      "cell_type": "code",
      "source": [
        "Enrollment['INTERMEDIATE'].mode()"
      ],
      "metadata": {
        "colab": {
          "base_uri": "https://localhost:8080/"
        },
        "id": "HOVP5F8qr2Ev",
        "outputId": "5dd21c63-95fc-47d4-8f23-2f37667375b3"
      },
      "execution_count": null,
      "outputs": [
        {
          "output_type": "execute_result",
          "data": {
            "text/plain": [
              "0    95.0\n",
              "dtype: float64"
            ]
          },
          "metadata": {},
          "execution_count": 26
        }
      ]
    },
    {
      "cell_type": "code",
      "source": [
        "Enrollment['INTERMEDIATE'].median()"
      ],
      "metadata": {
        "colab": {
          "base_uri": "https://localhost:8080/"
        },
        "id": "5j8GYEEor8Db",
        "outputId": "e9ad37a3-cd96-40d7-e10e-8ca33162e948"
      },
      "execution_count": null,
      "outputs": [
        {
          "output_type": "execute_result",
          "data": {
            "text/plain": [
              "90.8"
            ]
          },
          "metadata": {},
          "execution_count": 27
        }
      ]
    },
    {
      "cell_type": "code",
      "source": [
        "Enrollment['SSC'].mean()"
      ],
      "metadata": {
        "colab": {
          "base_uri": "https://localhost:8080/"
        },
        "id": "99L_u9MpsB4S",
        "outputId": "512bc4dd-efa4-4630-82a1-d62f272bb01a"
      },
      "execution_count": null,
      "outputs": [
        {
          "output_type": "execute_result",
          "data": {
            "text/plain": [
              "88.10673400673402"
            ]
          },
          "metadata": {},
          "execution_count": 28
        }
      ]
    },
    {
      "cell_type": "code",
      "source": [
        "Enrollment['SSC'].mode()"
      ],
      "metadata": {
        "colab": {
          "base_uri": "https://localhost:8080/"
        },
        "id": "TCR2BcJCsCpd",
        "outputId": "9f411098-9f90-4f91-93b1-da9021614e6d"
      },
      "execution_count": null,
      "outputs": [
        {
          "output_type": "execute_result",
          "data": {
            "text/plain": [
              "0    95.0\n",
              "dtype: float64"
            ]
          },
          "metadata": {},
          "execution_count": 29
        }
      ]
    },
    {
      "cell_type": "code",
      "source": [
        "Enrollment['SSC'].mean()"
      ],
      "metadata": {
        "colab": {
          "base_uri": "https://localhost:8080/"
        },
        "id": "I3PtVOfzsDbe",
        "outputId": "2d0343e1-8db7-41ab-aed5-528f6ad810ce"
      },
      "execution_count": null,
      "outputs": [
        {
          "output_type": "execute_result",
          "data": {
            "text/plain": [
              "88.10673400673402"
            ]
          },
          "metadata": {},
          "execution_count": 30
        }
      ]
    },
    {
      "cell_type": "code",
      "source": [
        "#7)Find Measure of Variance: Minimum, Maximum, Range, Mean Deviation, Standard Deviation, Co-efficient of Variation for Degree, Inter and 10th \n",
        "Enrollment.describe()"
      ],
      "metadata": {
        "colab": {
          "base_uri": "https://localhost:8080/",
          "height": 300
        },
        "id": "BBWme5Ogp-_p",
        "outputId": "814a5a1e-1a3f-40a3-ee3c-00670e946817"
      },
      "execution_count": null,
      "outputs": [
        {
          "output_type": "execute_result",
          "data": {
            "text/plain": [
              "         StudentNo      DEGREE  INTERMEDIATE         SSC\n",
              "count   297.000000  297.000000    297.000000  297.000000\n",
              "mean   1727.585859    7.928081     88.662626   88.106734\n",
              "std     502.019415    0.785579      7.355733    9.027984\n",
              "min    1001.000000    5.800000     65.000000   38.400000\n",
              "25%    1075.000000    7.400000     83.000000   85.000000\n",
              "50%    2044.000000    8.000000     90.800000   90.000000\n",
              "75%    2118.000000    8.560000     94.600000   95.000000\n",
              "max    2192.000000    9.530000     99.400000   99.000000"
            ],
            "text/html": [
              "\n",
              "  <div id=\"df-3f1d96b0-5983-4858-97cd-a884f3d1fb7a\">\n",
              "    <div class=\"colab-df-container\">\n",
              "      <div>\n",
              "<style scoped>\n",
              "    .dataframe tbody tr th:only-of-type {\n",
              "        vertical-align: middle;\n",
              "    }\n",
              "\n",
              "    .dataframe tbody tr th {\n",
              "        vertical-align: top;\n",
              "    }\n",
              "\n",
              "    .dataframe thead th {\n",
              "        text-align: right;\n",
              "    }\n",
              "</style>\n",
              "<table border=\"1\" class=\"dataframe\">\n",
              "  <thead>\n",
              "    <tr style=\"text-align: right;\">\n",
              "      <th></th>\n",
              "      <th>StudentNo</th>\n",
              "      <th>DEGREE</th>\n",
              "      <th>INTERMEDIATE</th>\n",
              "      <th>SSC</th>\n",
              "    </tr>\n",
              "  </thead>\n",
              "  <tbody>\n",
              "    <tr>\n",
              "      <th>count</th>\n",
              "      <td>297.000000</td>\n",
              "      <td>297.000000</td>\n",
              "      <td>297.000000</td>\n",
              "      <td>297.000000</td>\n",
              "    </tr>\n",
              "    <tr>\n",
              "      <th>mean</th>\n",
              "      <td>1727.585859</td>\n",
              "      <td>7.928081</td>\n",
              "      <td>88.662626</td>\n",
              "      <td>88.106734</td>\n",
              "    </tr>\n",
              "    <tr>\n",
              "      <th>std</th>\n",
              "      <td>502.019415</td>\n",
              "      <td>0.785579</td>\n",
              "      <td>7.355733</td>\n",
              "      <td>9.027984</td>\n",
              "    </tr>\n",
              "    <tr>\n",
              "      <th>min</th>\n",
              "      <td>1001.000000</td>\n",
              "      <td>5.800000</td>\n",
              "      <td>65.000000</td>\n",
              "      <td>38.400000</td>\n",
              "    </tr>\n",
              "    <tr>\n",
              "      <th>25%</th>\n",
              "      <td>1075.000000</td>\n",
              "      <td>7.400000</td>\n",
              "      <td>83.000000</td>\n",
              "      <td>85.000000</td>\n",
              "    </tr>\n",
              "    <tr>\n",
              "      <th>50%</th>\n",
              "      <td>2044.000000</td>\n",
              "      <td>8.000000</td>\n",
              "      <td>90.800000</td>\n",
              "      <td>90.000000</td>\n",
              "    </tr>\n",
              "    <tr>\n",
              "      <th>75%</th>\n",
              "      <td>2118.000000</td>\n",
              "      <td>8.560000</td>\n",
              "      <td>94.600000</td>\n",
              "      <td>95.000000</td>\n",
              "    </tr>\n",
              "    <tr>\n",
              "      <th>max</th>\n",
              "      <td>2192.000000</td>\n",
              "      <td>9.530000</td>\n",
              "      <td>99.400000</td>\n",
              "      <td>99.000000</td>\n",
              "    </tr>\n",
              "  </tbody>\n",
              "</table>\n",
              "</div>\n",
              "      <button class=\"colab-df-convert\" onclick=\"convertToInteractive('df-3f1d96b0-5983-4858-97cd-a884f3d1fb7a')\"\n",
              "              title=\"Convert this dataframe to an interactive table.\"\n",
              "              style=\"display:none;\">\n",
              "        \n",
              "  <svg xmlns=\"http://www.w3.org/2000/svg\" height=\"24px\"viewBox=\"0 0 24 24\"\n",
              "       width=\"24px\">\n",
              "    <path d=\"M0 0h24v24H0V0z\" fill=\"none\"/>\n",
              "    <path d=\"M18.56 5.44l.94 2.06.94-2.06 2.06-.94-2.06-.94-.94-2.06-.94 2.06-2.06.94zm-11 1L8.5 8.5l.94-2.06 2.06-.94-2.06-.94L8.5 2.5l-.94 2.06-2.06.94zm10 10l.94 2.06.94-2.06 2.06-.94-2.06-.94-.94-2.06-.94 2.06-2.06.94z\"/><path d=\"M17.41 7.96l-1.37-1.37c-.4-.4-.92-.59-1.43-.59-.52 0-1.04.2-1.43.59L10.3 9.45l-7.72 7.72c-.78.78-.78 2.05 0 2.83L4 21.41c.39.39.9.59 1.41.59.51 0 1.02-.2 1.41-.59l7.78-7.78 2.81-2.81c.8-.78.8-2.07 0-2.86zM5.41 20L4 18.59l7.72-7.72 1.47 1.35L5.41 20z\"/>\n",
              "  </svg>\n",
              "      </button>\n",
              "      \n",
              "  <style>\n",
              "    .colab-df-container {\n",
              "      display:flex;\n",
              "      flex-wrap:wrap;\n",
              "      gap: 12px;\n",
              "    }\n",
              "\n",
              "    .colab-df-convert {\n",
              "      background-color: #E8F0FE;\n",
              "      border: none;\n",
              "      border-radius: 50%;\n",
              "      cursor: pointer;\n",
              "      display: none;\n",
              "      fill: #1967D2;\n",
              "      height: 32px;\n",
              "      padding: 0 0 0 0;\n",
              "      width: 32px;\n",
              "    }\n",
              "\n",
              "    .colab-df-convert:hover {\n",
              "      background-color: #E2EBFA;\n",
              "      box-shadow: 0px 1px 2px rgba(60, 64, 67, 0.3), 0px 1px 3px 1px rgba(60, 64, 67, 0.15);\n",
              "      fill: #174EA6;\n",
              "    }\n",
              "\n",
              "    [theme=dark] .colab-df-convert {\n",
              "      background-color: #3B4455;\n",
              "      fill: #D2E3FC;\n",
              "    }\n",
              "\n",
              "    [theme=dark] .colab-df-convert:hover {\n",
              "      background-color: #434B5C;\n",
              "      box-shadow: 0px 1px 3px 1px rgba(0, 0, 0, 0.15);\n",
              "      filter: drop-shadow(0px 1px 2px rgba(0, 0, 0, 0.3));\n",
              "      fill: #FFFFFF;\n",
              "    }\n",
              "  </style>\n",
              "\n",
              "      <script>\n",
              "        const buttonEl =\n",
              "          document.querySelector('#df-3f1d96b0-5983-4858-97cd-a884f3d1fb7a button.colab-df-convert');\n",
              "        buttonEl.style.display =\n",
              "          google.colab.kernel.accessAllowed ? 'block' : 'none';\n",
              "\n",
              "        async function convertToInteractive(key) {\n",
              "          const element = document.querySelector('#df-3f1d96b0-5983-4858-97cd-a884f3d1fb7a');\n",
              "          const dataTable =\n",
              "            await google.colab.kernel.invokeFunction('convertToInteractive',\n",
              "                                                     [key], {});\n",
              "          if (!dataTable) return;\n",
              "\n",
              "          const docLinkHtml = 'Like what you see? Visit the ' +\n",
              "            '<a target=\"_blank\" href=https://colab.research.google.com/notebooks/data_table.ipynb>data table notebook</a>'\n",
              "            + ' to learn more about interactive tables.';\n",
              "          element.innerHTML = '';\n",
              "          dataTable['output_type'] = 'display_data';\n",
              "          await google.colab.output.renderOutput(dataTable, element);\n",
              "          const docLink = document.createElement('div');\n",
              "          docLink.innerHTML = docLinkHtml;\n",
              "          element.appendChild(docLink);\n",
              "        }\n",
              "      </script>\n",
              "    </div>\n",
              "  </div>\n",
              "  "
            ]
          },
          "metadata": {},
          "execution_count": 31
        }
      ]
    },
    {
      "cell_type": "code",
      "source": [
        "#Range \n",
        "Enrollment ['DEGREE'].max()-Enrollment ['DEGREE'].min()\n"
      ],
      "metadata": {
        "colab": {
          "base_uri": "https://localhost:8080/"
        },
        "id": "FMZl5awhqBp4",
        "outputId": "b49959b5-f18a-44b6-bf44-4b522614d02d"
      },
      "execution_count": null,
      "outputs": [
        {
          "output_type": "execute_result",
          "data": {
            "text/plain": [
              "3.7299999999999995"
            ]
          },
          "metadata": {},
          "execution_count": 13
        }
      ]
    },
    {
      "cell_type": "code",
      "source": [
        "Enrollment ['INTERMEDIATE'].max()-Enrollment ['INTERMEDIATE'].min()"
      ],
      "metadata": {
        "colab": {
          "base_uri": "https://localhost:8080/"
        },
        "id": "FE0pTvlEqDsz",
        "outputId": "b9ccb79d-5f0e-4cb5-adac-27fabbbe3659"
      },
      "execution_count": null,
      "outputs": [
        {
          "output_type": "execute_result",
          "data": {
            "text/plain": [
              "34.400000000000006"
            ]
          },
          "metadata": {},
          "execution_count": 14
        }
      ]
    },
    {
      "cell_type": "code",
      "source": [
        "Enrollment ['SSC'].max()-Enrollment ['SSC'].min()"
      ],
      "metadata": {
        "colab": {
          "base_uri": "https://localhost:8080/"
        },
        "id": "zH1wd8o2qjaI",
        "outputId": "5e7f9869-8928-49e6-e620-aac383d5dfa1"
      },
      "execution_count": null,
      "outputs": [
        {
          "output_type": "execute_result",
          "data": {
            "text/plain": [
              "60.6"
            ]
          },
          "metadata": {},
          "execution_count": 15
        }
      ]
    },
    {
      "cell_type": "code",
      "source": [
        "#Mean Deviation\n",
        "Enrollment ['DEGREE'].mad()"
      ],
      "metadata": {
        "colab": {
          "base_uri": "https://localhost:8080/"
        },
        "id": "zSlVqV4aqmop",
        "outputId": "343890fa-35cc-473e-83a8-cb87f00cdd4b"
      },
      "execution_count": null,
      "outputs": [
        {
          "output_type": "execute_result",
          "data": {
            "text/plain": [
              "0.6475638540285004"
            ]
          },
          "metadata": {},
          "execution_count": 16
        }
      ]
    },
    {
      "cell_type": "code",
      "source": [
        "Enrollment ['INTERMEDIATE'].mad()"
      ],
      "metadata": {
        "colab": {
          "base_uri": "https://localhost:8080/"
        },
        "id": "rb8nfcJRqpNG",
        "outputId": "85a4466b-d73c-472b-b492-21df57052b57"
      },
      "execution_count": null,
      "outputs": [
        {
          "output_type": "execute_result",
          "data": {
            "text/plain": [
              "6.0779825187906"
            ]
          },
          "metadata": {},
          "execution_count": 17
        }
      ]
    },
    {
      "cell_type": "code",
      "source": [
        "Enrollment ['SSC'].mad()"
      ],
      "metadata": {
        "colab": {
          "base_uri": "https://localhost:8080/"
        },
        "id": "LAU80XrHqsz4",
        "outputId": "00857b90-b51c-4379-89cf-e4214f6037b8"
      },
      "execution_count": null,
      "outputs": [
        {
          "output_type": "execute_result",
          "data": {
            "text/plain": [
              "6.5146492988243825"
            ]
          },
          "metadata": {},
          "execution_count": 18
        }
      ]
    },
    {
      "cell_type": "code",
      "source": [
        "#Co-efficient of Variation\n",
        "Enrollment['DEGREE'].std()/Enrollment['DEGREE'].mean()"
      ],
      "metadata": {
        "colab": {
          "base_uri": "https://localhost:8080/"
        },
        "id": "3nN8myALqunx",
        "outputId": "d90f453d-cffb-4b59-a43e-1d59f4f0aff4"
      },
      "execution_count": null,
      "outputs": [
        {
          "output_type": "execute_result",
          "data": {
            "text/plain": [
              "0.09908812258183079"
            ]
          },
          "metadata": {},
          "execution_count": 19
        }
      ]
    },
    {
      "cell_type": "code",
      "source": [
        "Enrollment['INTERMEDIATE'].std()/Enrollment['INTERMEDIATE'].mean()"
      ],
      "metadata": {
        "colab": {
          "base_uri": "https://localhost:8080/"
        },
        "id": "frSjHQTOq0gb",
        "outputId": "7532d0cb-b4a6-43ca-b7ab-f49f2d25520f"
      },
      "execution_count": null,
      "outputs": [
        {
          "output_type": "execute_result",
          "data": {
            "text/plain": [
              "0.0829631726338337"
            ]
          },
          "metadata": {},
          "execution_count": 20
        }
      ]
    },
    {
      "cell_type": "code",
      "source": [
        "Enrollment['SSC'].std()/Enrollment['SSC'].mean()"
      ],
      "metadata": {
        "colab": {
          "base_uri": "https://localhost:8080/"
        },
        "id": "MAAh6omMq413",
        "outputId": "28e2e6d1-6042-4b8a-c031-924080e24b93"
      },
      "execution_count": null,
      "outputs": [
        {
          "output_type": "execute_result",
          "data": {
            "text/plain": [
              "0.10246644919200619"
            ]
          },
          "metadata": {},
          "execution_count": 21
        }
      ]
    },
    {
      "cell_type": "code",
      "source": [
        "#8)Measures of Position: Standard Scores, Inter-quartile Range for Degree, Inter and 10th \n",
        "#Standard Score\n",
        "stats.zscore(Enrollment['DEGREE'])"
      ],
      "metadata": {
        "colab": {
          "base_uri": "https://localhost:8080/"
        },
        "id": "0S1s-zCbq8r6",
        "outputId": "7cda2568-55b7-4c9a-9bac-e3920fdaea3f"
      },
      "execution_count": null,
      "outputs": [
        {
          "output_type": "execute_result",
          "data": {
            "text/plain": [
              "0      0.219213\n",
              "1      0.219213\n",
              "2     -0.163315\n",
              "3      1.405052\n",
              "4      0.576240\n",
              "         ...   \n",
              "292    0.984271\n",
              "293    0.665497\n",
              "294    0.601742\n",
              "295   -1.106886\n",
              "296   -0.545844\n",
              "Name: DEGREE, Length: 297, dtype: float64"
            ]
          },
          "metadata": {},
          "execution_count": 34
        }
      ]
    },
    {
      "cell_type": "code",
      "source": [
        "stats.zscore(Enrollment['INTERMEDIATE'])"
      ],
      "metadata": {
        "colab": {
          "base_uri": "https://localhost:8080/"
        },
        "id": "cMJMj6B6u3uZ",
        "outputId": "7dafdeae-c821-4fcb-b72e-3945a418af17"
      },
      "execution_count": null,
      "outputs": [
        {
          "output_type": "execute_result",
          "data": {
            "text/plain": [
              "0     -1.724369\n",
              "1     -1.724369\n",
              "2      0.808539\n",
              "3      0.114032\n",
              "4     -0.226413\n",
              "         ...   \n",
              "292    0.740450\n",
              "293    0.182121\n",
              "294    0.849392\n",
              "295    0.263827\n",
              "296    0.931099\n",
              "Name: INTERMEDIATE, Length: 297, dtype: float64"
            ]
          },
          "metadata": {},
          "execution_count": 35
        }
      ]
    },
    {
      "cell_type": "code",
      "source": [
        "stats.zscore(Enrollment['SSC'])"
      ],
      "metadata": {
        "colab": {
          "base_uri": "https://localhost:8080/"
        },
        "id": "vxDfP4wcvALS",
        "outputId": "fb6bea70-1b24-4c11-97a5-e3a2cc117c5d"
      },
      "execution_count": null,
      "outputs": [
        {
          "output_type": "execute_result",
          "data": {
            "text/plain": [
              "0      0.431972\n",
              "1      0.431972\n",
              "2      0.431972\n",
              "3      0.099111\n",
              "4      0.210065\n",
              "         ...   \n",
              "292    0.542926\n",
              "293    0.542926\n",
              "294    1.097694\n",
              "295   -0.011843\n",
              "296    0.764833\n",
              "Name: SSC, Length: 297, dtype: float64"
            ]
          },
          "metadata": {},
          "execution_count": 36
        }
      ]
    },
    {
      "cell_type": "code",
      "source": [
        "#Inter-quartile Range\n",
        "q3,q1=np.percentile(Enrollment['DEGREE'],[7.5,2.5])\n",
        "iqr=q3-q1\n",
        "iqr"
      ],
      "metadata": {
        "colab": {
          "base_uri": "https://localhost:8080/"
        },
        "id": "Uh9YSUWXvCdI",
        "outputId": "d7ffafb3-92e8-4e28-e42e-55f52f7949bb"
      },
      "execution_count": null,
      "outputs": [
        {
          "output_type": "execute_result",
          "data": {
            "text/plain": [
              "0.242"
            ]
          },
          "metadata": {},
          "execution_count": 37
        }
      ]
    },
    {
      "cell_type": "code",
      "source": [
        "q3,q1=np.percentile(Enrollment['INTERMEDIATE'],[75,25])\n",
        "iqr=q3-q1\n",
        "iqr"
      ],
      "metadata": {
        "colab": {
          "base_uri": "https://localhost:8080/"
        },
        "id": "sAnzP0wHvIGu",
        "outputId": "07ba45dc-645e-4e6b-86bd-670fcbac0197"
      },
      "execution_count": null,
      "outputs": [
        {
          "output_type": "execute_result",
          "data": {
            "text/plain": [
              "11.599999999999994"
            ]
          },
          "metadata": {},
          "execution_count": 38
        }
      ]
    },
    {
      "cell_type": "code",
      "source": [
        "q3,q1=np.percentile(Enrollment['SSC'],[75,25])\n",
        "iqr=q3-q1\n",
        "iqr"
      ],
      "metadata": {
        "colab": {
          "base_uri": "https://localhost:8080/"
        },
        "id": "tybT9JAqvL30",
        "outputId": "44a3e9c4-8f3a-40be-ae63-6ec34598371b"
      },
      "execution_count": null,
      "outputs": [
        {
          "output_type": "execute_result",
          "data": {
            "text/plain": [
              "10.0"
            ]
          },
          "metadata": {},
          "execution_count": 39
        }
      ]
    },
    {
      "cell_type": "code",
      "source": [
        "#9)Create Box Plot and Identify Outliers for Degree, Inter and 10th \n",
        "boxplot = Enrollment.boxplot(column=['DEGREE', 'INTERMEDIATE', 'SSC'],rot=0, fontsize=12)  "
      ],
      "metadata": {
        "colab": {
          "base_uri": "https://localhost:8080/",
          "height": 268
        },
        "id": "joyQMYM_vOXQ",
        "outputId": "21a798aa-c467-4167-dab6-f44a538e2ef4"
      },
      "execution_count": null,
      "outputs": [
        {
          "output_type": "display_data",
          "data": {
            "text/plain": [
              "<Figure size 432x288 with 1 Axes>"
            ],
            "image/png": "[encoded data removed]"
          },
          "metadata": {
            "needs_background": "light"
          }
        }
      ]
    },
    {
      "cell_type": "code",
      "source": [
        "#outliers for Degree\n",
        "q3,q1=np.percentile(Enrollment['DEGREE'],[7.5,2.5])\n",
        "iqr=q3-q1\n",
        "ul = q3+1.5*iqr\n",
        "ll = q1-1.5*iqr\n",
        "outliers = Enrollment['DEGREE'][(Enrollment['DEGREE'] > ul) | (Enrollment['DEGREE'] < ll)]\n",
        "outliers"
      ],
      "metadata": {
        "colab": {
          "base_uri": "https://localhost:8080/"
        },
        "id": "lRrf_F9wvVhO",
        "outputId": "ad73abe6-dfa5-4879-da42-72508c27979c"
      },
      "execution_count": null,
      "outputs": [
        {
          "output_type": "execute_result",
          "data": {
            "text/plain": [
              "0      8.10\n",
              "1      8.10\n",
              "2      7.80\n",
              "3      9.03\n",
              "4      8.38\n",
              "       ... \n",
              "292    8.70\n",
              "293    8.45\n",
              "294    8.40\n",
              "295    7.06\n",
              "296    7.50\n",
              "Name: DEGREE, Length: 252, dtype: float64"
            ]
          },
          "metadata": {},
          "execution_count": 41
        }
      ]
    },
    {
      "cell_type": "code",
      "source": [
        "#Outliers for Inter\n",
        "q3,q1=np.percentile(Enrollment['INTERMEDIATE'],[75,25])\n",
        "iqr=q3-q1\n",
        "ul = q3+1.5*iqr\n",
        "ll = q1-1.5*iqr\n",
        "outliers = Enrollment['INTERMEDIATE'][(Enrollment['INTERMEDIATE'] > ul) | (Enrollment['INTERMEDIATE'] < ll)]\n",
        "outliers"
      ],
      "metadata": {
        "colab": {
          "base_uri": "https://localhost:8080/"
        },
        "id": "wv4iys_MvYWz",
        "outputId": "323edca8-17e3-4723-e9ca-6afeb46a945c"
      },
      "execution_count": null,
      "outputs": [
        {
          "output_type": "execute_result",
          "data": {
            "text/plain": [
              "271    65.0\n",
              "Name: INTERMEDIATE, dtype: float64"
            ]
          },
          "metadata": {},
          "execution_count": 42
        }
      ]
    },
    {
      "cell_type": "code",
      "source": [
        "#Outliers for 10th\n",
        "q3,q1=np.percentile(Enrollment['SSC'],[75,25])\n",
        "iqr=q3-q1\n",
        "ul = q3+1.5*iqr\n",
        "ll = q1-1.5*iqr\n",
        "outliers = Enrollment['SSC'][(Enrollment['SSC'] > ul) | (Enrollment['SSC'] < ll)]\n",
        "outliers"
      ],
      "metadata": {
        "colab": {
          "base_uri": "https://localhost:8080/"
        },
        "id": "E0joZkCLvbWn",
        "outputId": "d43631ab-a918-4d28-d3bc-bdd810aedb33"
      },
      "execution_count": null,
      "outputs": [
        {
          "output_type": "execute_result",
          "data": {
            "text/plain": [
              "5      64.0\n",
              "31     60.0\n",
              "51     68.0\n",
              "69     60.0\n",
              "82     65.6\n",
              "86     50.0\n",
              "107    64.0\n",
              "236    38.4\n",
              "237    67.0\n",
              "243    40.2\n",
              "270    65.0\n",
              "288    65.0\n",
              "Name: SSC, dtype: float64"
            ]
          },
          "metadata": {},
          "execution_count": 43
        }
      ]
    },
    {
      "cell_type": "code",
      "source": [
        "#10)IDENTIFY NO.OF STUDENTS WITH 90% PERCENTILE FOR DEGREE,INTERMEDIATE,SSC.\n",
        "Enrollment [(Enrollment ['DEGREE']>=9.0) & (Enrollment ['INTERMEDIATE']>=90.0) & (Enrollment ['SSC']>=90.0)]"
      ],
      "metadata": {
        "colab": {
          "base_uri": "https://localhost:8080/",
          "height": 551
        },
        "id": "jqEBM52JveVu",
        "outputId": "37d6ab55-4ee4-49c4-ba4e-dfe0e274ed60"
      },
      "execution_count": null,
      "outputs": [
        {
          "output_type": "execute_result",
          "data": {
            "text/plain": [
              "     StudentNo  DEGREE  INTERMEDIATE   SSC                      INTERNSHIP\n",
              "14        1015    9.07          95.0  98.0  Cloud Computing Services (AWS)\n",
              "16        1017    9.53          98.2  93.1      MEAN Stack Web Development\n",
              "20        1021    9.00          96.8  99.0                    Data Science\n",
              "24        1025    9.08          97.2  97.0                    Data Science\n",
              "39        1040    9.03          96.5  97.0                    Data Science\n",
              "40        1041    9.34          97.7  97.0                    Data Science\n",
              "96        1097    9.20          97.8  90.0                    Data Science\n",
              "110       2006    9.08          95.3  95.0                    Data Science\n",
              "127       2023    9.20          97.2  92.0      MEAN Stack Web Development\n",
              "144       2040    9.16          91.4  92.0  Cloud Computing Services (AWS)\n",
              "154       2050    9.20          97.2  90.0  Cloud Computing Services (AWS)\n",
              "155       2051    9.00          98.0  90.0                    Data Science\n",
              "162       2058    9.10          94.0  98.0                    Data Science\n",
              "203       2099    9.09          92.0  95.0      MEAN Stack Web Development\n",
              "257       2153    9.05          96.5  97.0      MEAN Stack Web Development\n",
              "258       2154    9.34          97.7  93.0                    Data Science"
            ],
            "text/html": [
              "\n",
              "  <div id=\"df-bf768e5e-0612-4e15-8280-ed8edab05fd5\">\n",
              "    <div class=\"colab-df-container\">\n",
              "      <div>\n",
              "<style scoped>\n",
              "    .dataframe tbody tr th:only-of-type {\n",
              "        vertical-align: middle;\n",
              "    }\n",
              "\n",
              "    .dataframe tbody tr th {\n",
              "        vertical-align: top;\n",
              "    }\n",
              "\n",
              "    .dataframe thead th {\n",
              "        text-align: right;\n",
              "    }\n",
              "</style>\n",
              "<table border=\"1\" class=\"dataframe\">\n",
              "  <thead>\n",
              "    <tr style=\"text-align: right;\">\n",
              "      <th></th>\n",
              "      <th>StudentNo</th>\n",
              "      <th>DEGREE</th>\n",
              "      <th>INTERMEDIATE</th>\n",
              "      <th>SSC</th>\n",
              "      <th>INTERNSHIP</th>\n",
              "    </tr>\n",
              "  </thead>\n",
              "  <tbody>\n",
              "    <tr>\n",
              "      <th>14</th>\n",
              "      <td>1015</td>\n",
              "      <td>9.07</td>\n",
              "      <td>95.0</td>\n",
              "      <td>98.0</td>\n",
              "      <td>Cloud Computing Services (AWS)</td>\n",
              "    </tr>\n",
              "    <tr>\n",
              "      <th>16</th>\n",
              "      <td>1017</td>\n",
              "      <td>9.53</td>\n",
              "      <td>98.2</td>\n",
              "      <td>93.1</td>\n",
              "      <td>MEAN Stack Web Development</td>\n",
              "    </tr>\n",
              "    <tr>\n",
              "      <th>20</th>\n",
              "      <td>1021</td>\n",
              "      <td>9.00</td>\n",
              "      <td>96.8</td>\n",
              "      <td>99.0</td>\n",
              "      <td>Data Science</td>\n",
              "    </tr>\n",
              "    <tr>\n",
              "      <th>24</th>\n",
              "      <td>1025</td>\n",
              "      <td>9.08</td>\n",
              "      <td>97.2</td>\n",
              "      <td>97.0</td>\n",
              "      <td>Data Science</td>\n",
              "    </tr>\n",
              "    <tr>\n",
              "      <th>39</th>\n",
              "      <td>1040</td>\n",
              "      <td>9.03</td>\n",
              "      <td>96.5</td>\n",
              "      <td>97.0</td>\n",
              "      <td>Data Science</td>\n",
              "    </tr>\n",
              "    <tr>\n",
              "      <th>40</th>\n",
              "      <td>1041</td>\n",
              "      <td>9.34</td>\n",
              "      <td>97.7</td>\n",
              "      <td>97.0</td>\n",
              "      <td>Data Science</td>\n",
              "    </tr>\n",
              "    <tr>\n",
              "      <th>96</th>\n",
              "      <td>1097</td>\n",
              "      <td>9.20</td>\n",
              "      <td>97.8</td>\n",
              "      <td>90.0</td>\n",
              "      <td>Data Science</td>\n",
              "    </tr>\n",
              "    <tr>\n",
              "      <th>110</th>\n",
              "      <td>2006</td>\n",
              "      <td>9.08</td>\n",
              "      <td>95.3</td>\n",
              "      <td>95.0</td>\n",
              "      <td>Data Science</td>\n",
              "    </tr>\n",
              "    <tr>\n",
              "      <th>127</th>\n",
              "      <td>2023</td>\n",
              "      <td>9.20</td>\n",
              "      <td>97.2</td>\n",
              "      <td>92.0</td>\n",
              "      <td>MEAN Stack Web Development</td>\n",
              "    </tr>\n",
              "    <tr>\n",
              "      <th>144</th>\n",
              "      <td>2040</td>\n",
              "      <td>9.16</td>\n",
              "      <td>91.4</td>\n",
              "      <td>92.0</td>\n",
              "      <td>Cloud Computing Services (AWS)</td>\n",
              "    </tr>\n",
              "    <tr>\n",
              "      <th>154</th>\n",
              "      <td>2050</td>\n",
              "      <td>9.20</td>\n",
              "      <td>97.2</td>\n",
              "      <td>90.0</td>\n",
              "      <td>Cloud Computing Services (AWS)</td>\n",
              "    </tr>\n",
              "    <tr>\n",
              "      <th>155</th>\n",
              "      <td>2051</td>\n",
              "      <td>9.00</td>\n",
              "      <td>98.0</td>\n",
              "      <td>90.0</td>\n",
              "      <td>Data Science</td>\n",
              "    </tr>\n",
              "    <tr>\n",
              "      <th>162</th>\n",
              "      <td>2058</td>\n",
              "      <td>9.10</td>\n",
              "      <td>94.0</td>\n",
              "      <td>98.0</td>\n",
              "      <td>Data Science</td>\n",
              "    </tr>\n",
              "    <tr>\n",
              "      <th>203</th>\n",
              "      <td>2099</td>\n",
              "      <td>9.09</td>\n",
              "      <td>92.0</td>\n",
              "      <td>95.0</td>\n",
              "      <td>MEAN Stack Web Development</td>\n",
              "    </tr>\n",
              "    <tr>\n",
              "      <th>257</th>\n",
              "      <td>2153</td>\n",
              "      <td>9.05</td>\n",
              "      <td>96.5</td>\n",
              "      <td>97.0</td>\n",
              "      <td>MEAN Stack Web Development</td>\n",
              "    </tr>\n",
              "    <tr>\n",
              "      <th>258</th>\n",
              "      <td>2154</td>\n",
              "      <td>9.34</td>\n",
              "      <td>97.7</td>\n",
              "      <td>93.0</td>\n",
              "      <td>Data Science</td>\n",
              "    </tr>\n",
              "  </tbody>\n",
              "</table>\n",
              "</div>\n",
              "      <button class=\"colab-df-convert\" onclick=\"convertToInteractive('df-bf768e5e-0612-4e15-8280-ed8edab05fd5')\"\n",
              "              title=\"Convert this dataframe to an interactive table.\"\n",
              "              style=\"display:none;\">\n",
              "        \n",
              "  <svg xmlns=\"http://www.w3.org/2000/svg\" height=\"24px\"viewBox=\"0 0 24 24\"\n",
              "       width=\"24px\">\n",
              "    <path d=\"M0 0h24v24H0V0z\" fill=\"none\"/>\n",
              "    <path d=\"M18.56 5.44l.94 2.06.94-2.06 2.06-.94-2.06-.94-.94-2.06-.94 2.06-2.06.94zm-11 1L8.5 8.5l.94-2.06 2.06-.94-2.06-.94L8.5 2.5l-.94 2.06-2.06.94zm10 10l.94 2.06.94-2.06 2.06-.94-2.06-.94-.94-2.06-.94 2.06-2.06.94z\"/><path d=\"M17.41 7.96l-1.37-1.37c-.4-.4-.92-.59-1.43-.59-.52 0-1.04.2-1.43.59L10.3 9.45l-7.72 7.72c-.78.78-.78 2.05 0 2.83L4 21.41c.39.39.9.59 1.41.59.51 0 1.02-.2 1.41-.59l7.78-7.78 2.81-2.81c.8-.78.8-2.07 0-2.86zM5.41 20L4 18.59l7.72-7.72 1.47 1.35L5.41 20z\"/>\n",
              "  </svg>\n",
              "      </button>\n",
              "      \n",
              "  <style>\n",
              "    .colab-df-container {\n",
              "      display:flex;\n",
              "      flex-wrap:wrap;\n",
              "      gap: 12px;\n",
              "    }\n",
              "\n",
              "    .colab-df-convert {\n",
              "      background-color: #E8F0FE;\n",
              "      border: none;\n",
              "      border-radius: 50%;\n",
              "      cursor: pointer;\n",
              "      display: none;\n",
              "      fill: #1967D2;\n",
              "      height: 32px;\n",
              "      padding: 0 0 0 0;\n",
              "      width: 32px;\n",
              "    }\n",
              "\n",
              "    .colab-df-convert:hover {\n",
              "      background-color: #E2EBFA;\n",
              "      box-shadow: 0px 1px 2px rgba(60, 64, 67, 0.3), 0px 1px 3px 1px rgba(60, 64, 67, 0.15);\n",
              "      fill: #174EA6;\n",
              "    }\n",
              "\n",
              "    [theme=dark] .colab-df-convert {\n",
              "      background-color: #3B4455;\n",
              "      fill: #D2E3FC;\n",
              "    }\n",
              "\n",
              "    [theme=dark] .colab-df-convert:hover {\n",
              "      background-color: #434B5C;\n",
              "      box-shadow: 0px 1px 3px 1px rgba(0, 0, 0, 0.15);\n",
              "      filter: drop-shadow(0px 1px 2px rgba(0, 0, 0, 0.3));\n",
              "      fill: #FFFFFF;\n",
              "    }\n",
              "  </style>\n",
              "\n",
              "      <script>\n",
              "        const buttonEl =\n",
              "          document.querySelector('#df-bf768e5e-0612-4e15-8280-ed8edab05fd5 button.colab-df-convert');\n",
              "        buttonEl.style.display =\n",
              "          google.colab.kernel.accessAllowed ? 'block' : 'none';\n",
              "\n",
              "        async function convertToInteractive(key) {\n",
              "          const element = document.querySelector('#df-bf768e5e-0612-4e15-8280-ed8edab05fd5');\n",
              "          const dataTable =\n",
              "            await google.colab.kernel.invokeFunction('convertToInteractive',\n",
              "                                                     [key], {});\n",
              "          if (!dataTable) return;\n",
              "\n",
              "          const docLinkHtml = 'Like what you see? Visit the ' +\n",
              "            '<a target=\"_blank\" href=https://colab.research.google.com/notebooks/data_table.ipynb>data table notebook</a>'\n",
              "            + ' to learn more about interactive tables.';\n",
              "          element.innerHTML = '';\n",
              "          dataTable['output_type'] = 'display_data';\n",
              "          await google.colab.output.renderOutput(dataTable, element);\n",
              "          const docLink = document.createElement('div');\n",
              "          docLink.innerHTML = docLinkHtml;\n",
              "          element.appendChild(docLink);\n",
              "        }\n",
              "      </script>\n",
              "    </div>\n",
              "  </div>\n",
              "  "
            ]
          },
          "metadata": {},
          "execution_count": 44
        }
      ]
    },
    {
      "cell_type": "code",
      "source": [],
      "metadata": {
        "id": "NiiU3vuPvkl1"
      },
      "execution_count": null,
      "outputs": []
    }
  ]
}